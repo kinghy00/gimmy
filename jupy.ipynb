{
 "cells": [
  {
   "cell_type": "code",
   "execution_count": 1,
   "id": "aab09e2d",
   "metadata": {},
   "outputs": [
    {
     "data": {
      "text/plain": [
       "'C:\\\\Users\\\\user\\\\AI_SCHOOL8'"
      ]
     },
     "execution_count": 1,
     "metadata": {},
     "output_type": "execute_result"
    }
   ],
   "source": [
    "# pwd와 os.getcwd를 통해서 주피터노트북 실습 파일이 있는 경로를 확인할 수 있음.\n",
    "\n",
    "%pwd"
   ]
  },
  {
   "cell_type": "code",
   "execution_count": 1,
   "id": "b304ca2c",
   "metadata": {},
   "outputs": [
    {
     "data": {
      "text/plain": [
       "'C:\\\\Users\\\\user\\\\AI_SCHOOL8'"
      ]
     },
     "execution_count": 1,
     "metadata": {},
     "output_type": "execute_result"
    }
   ],
   "source": [
    "import os\n",
    "\n",
    "os.getcwd()"
   ]
  },
  {
   "attachments": {},
   "cell_type": "markdown",
   "id": "ae487be9",
   "metadata": {},
   "source": [
    "# 실행모드(ESC)\n",
    "* ESC 누르면 커서가 사라집니다.\n",
    "* a 키를 누르면 위에 셀이 생성됩니다. \n",
    "* b 키를 누르면 아래에 셀이 생성됩니다. \n",
    "* dd 키를 누르면 셀이 삭제됩니다. \n",
    "* m 키를 누르면 마크다운 셀(왼쪽에 In[]:이 없습니다.)로 변경됩니다. \n",
    "* y 키를 누르면 코드 셀(왼쪽에 In[]:이 있습니다.)로 변경됩니다. \n",
    "\n",
    "# 편집모드(ENTER)\n",
    "* ENTER 누르면 커서가 생깁니다.\n",
    "* shift + Enter 키를 누르면 실행되고 다음셀로 이동합니다.\n",
    "* ctrl + Enter  키를 누르면 해당 셀만 실행되고 이동하지 않습니다. "
   ]
  },
  {
   "cell_type": "code",
   "execution_count": null,
   "id": "6fd83c42",
   "metadata": {},
   "outputs": [],
   "source": []
  }
 ],
 "metadata": {
  "kernelspec": {
   "display_name": "Python 3 (ipykernel)",
   "language": "python",
   "name": "python3"
  },
  "language_info": {
   "codemirror_mode": {
    "name": "ipython",
    "version": 3
   },
   "file_extension": ".py",
   "mimetype": "text/x-python",
   "name": "python",
   "nbconvert_exporter": "python",
   "pygments_lexer": "ipython3",
   "version": "3.9.13"
  }
 },
 "nbformat": 4,
 "nbformat_minor": 5
}
